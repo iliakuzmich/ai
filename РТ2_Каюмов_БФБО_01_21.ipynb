{
 "cells": [
  {
   "cell_type": "markdown",
   "id": "9a5e9a95",
   "metadata": {},
   "source": [
    "# Рабочая тетрадь 2\n",
    "## 1.3.1"
   ]
  },
  {
   "cell_type": "code",
   "execution_count": 10,
   "id": "50565e6a",
   "metadata": {},
   "outputs": [
    {
     "name": "stdout",
     "output_type": "stream",
     "text": [
      "[[0. 1. 0. 1. 0. 1. 0. 1.]\n",
      " [1. 0. 1. 0. 1. 0. 1. 0.]\n",
      " [0. 1. 0. 1. 0. 1. 0. 1.]\n",
      " [1. 0. 1. 0. 1. 0. 1. 0.]\n",
      " [0. 1. 0. 1. 0. 1. 0. 1.]\n",
      " [1. 0. 1. 0. 1. 0. 1. 0.]\n",
      " [0. 1. 0. 1. 0. 1. 0. 1.]\n",
      " [1. 0. 1. 0. 1. 0. 1. 0.]]\n"
     ]
    }
   ],
   "source": [
    "import numpy as np\n",
    "a = np.zeros((8,8))\n",
    "a[1::2,::2] = 1\n",
    "a[::2,1::2] = 1\n",
    "print(a)"
   ]
  },
  {
   "cell_type": "markdown",
   "id": "5481632a",
   "metadata": {},
   "source": [
    "## 1.3.2"
   ]
  },
  {
   "cell_type": "code",
   "execution_count": 14,
   "id": "5800dbc2",
   "metadata": {},
   "outputs": [
    {
     "name": "stdout",
     "output_type": "stream",
     "text": [
      "[[0. 1. 2. 3. 4.]\n",
      " [0. 1. 2. 3. 4.]\n",
      " [0. 1. 2. 3. 4.]\n",
      " [0. 1. 2. 3. 4.]\n",
      " [0. 1. 2. 3. 4.]]\n"
     ]
    }
   ],
   "source": [
    "q = np.zeros((5, 5))\n",
    "q[:,:] = np.arange(0, 5)\n",
    "print(q)"
   ]
  },
  {
   "cell_type": "markdown",
   "id": "b63a6810",
   "metadata": {},
   "source": [
    "## 1.3.3"
   ]
  },
  {
   "cell_type": "code",
   "execution_count": 20,
   "id": "f4e59185",
   "metadata": {},
   "outputs": [
    {
     "name": "stdout",
     "output_type": "stream",
     "text": [
      "[[[0.24740545 0.89791617 0.66183434]\n",
      "  [0.78351113 0.53700074 0.23758967]\n",
      "  [0.86925226 0.0697907  0.04666509]]\n",
      "\n",
      " [[0.30524847 0.05043586 0.19613883]\n",
      "  [0.48318036 0.53260008 0.22056067]\n",
      "  [0.99696884 0.08217338 0.87739544]]\n",
      "\n",
      " [[0.82338329 0.62052279 0.28486648]\n",
      "  [0.75761641 0.25335338 0.17257692]\n",
      "  [0.6063491  0.0281634  0.2959328 ]]]\n"
     ]
    }
   ],
   "source": [
    "a = np.random.random((3, 3, 3))\n",
    "print(a)"
   ]
  },
  {
   "cell_type": "markdown",
   "id": "b4cd0e0a",
   "metadata": {},
   "source": [
    "## 1.3.4"
   ]
  },
  {
   "cell_type": "code",
   "execution_count": 46,
   "id": "36084688",
   "metadata": {},
   "outputs": [
    {
     "name": "stdout",
     "output_type": "stream",
     "text": [
      "[[1. 1. 1. 1. 1.]\n",
      " [1. 0. 0. 0. 1.]\n",
      " [1. 0. 0. 0. 1.]\n",
      " [1. 0. 0. 0. 1.]\n",
      " [1. 1. 1. 1. 1.]]\n"
     ]
    }
   ],
   "source": [
    "a = np.ones((5,5))\n",
    "a[1:4, 1:4] = 0\n",
    "print(a)"
   ]
  },
  {
   "cell_type": "markdown",
   "id": "b961d96e",
   "metadata": {},
   "source": [
    "## 1.3.5"
   ]
  },
  {
   "cell_type": "code",
   "execution_count": 56,
   "id": "6d3c5612",
   "metadata": {},
   "outputs": [
    {
     "name": "stdout",
     "output_type": "stream",
     "text": [
      "[0.9303766968026358, 0.7685323730119406, 0.23038645032536476, 0.08678433459888613, 0.06266990045596943]\n"
     ]
    }
   ],
   "source": [
    "a = np.random.random(5)\n",
    "a = sorted(a)[::-1]\n",
    "print(a)"
   ]
  },
  {
   "cell_type": "markdown",
   "id": "63f31c24",
   "metadata": {},
   "source": [
    "## 1.3.6"
   ]
  },
  {
   "cell_type": "code",
   "execution_count": 62,
   "id": "39504078",
   "metadata": {},
   "outputs": [
    {
     "name": "stdout",
     "output_type": "stream",
     "text": [
      "(4, 3), 2\n"
     ]
    }
   ],
   "source": [
    "a = np.array([[1, 3, 6], [1, 5, 3], [1 ,3, 2], [1, 5, 5]])\n",
    "print(a.shape, a.ndim, sep=', ')"
   ]
  },
  {
   "cell_type": "markdown",
   "id": "d5ba0e8e",
   "metadata": {},
   "source": [
    "## 2.3.1"
   ]
  },
  {
   "cell_type": "code",
   "execution_count": 81,
   "id": "3db18c69",
   "metadata": {},
   "outputs": [
    {
     "name": "stdout",
     "output_type": "stream",
     "text": [
      "6.0\n"
     ]
    }
   ],
   "source": [
    "import pandas as pd\n",
    "from math import sqrt\n",
    "a = pd.Series([5, 5, 4])\n",
    "b = pd.Series([1, 3, 8])\n",
    "print(sqrt(sum((b - a)**2)))"
   ]
  },
  {
   "cell_type": "markdown",
   "id": "407040cc",
   "metadata": {},
   "source": [
    "## 2.3.2 - 2.3.3"
   ]
  },
  {
   "cell_type": "code",
   "execution_count": 105,
   "id": "5133d5e0",
   "metadata": {},
   "outputs": [],
   "source": [
    "url = 'https://raw.githubusercontent.com/akmand/datasets/master/baby_names_2000.csv'\n",
    "df = pd.read_csv(url)"
   ]
  },
  {
   "cell_type": "code",
   "execution_count": 106,
   "id": "bd3dd9a4",
   "metadata": {},
   "outputs": [
    {
     "data": {
      "text/html": [
       "<div>\n",
       "<style scoped>\n",
       "    .dataframe tbody tr th:only-of-type {\n",
       "        vertical-align: middle;\n",
       "    }\n",
       "\n",
       "    .dataframe tbody tr th {\n",
       "        vertical-align: top;\n",
       "    }\n",
       "\n",
       "    .dataframe thead th {\n",
       "        text-align: right;\n",
       "    }\n",
       "</style>\n",
       "<table border=\"1\" class=\"dataframe\">\n",
       "  <thead>\n",
       "    <tr style=\"text-align: right;\">\n",
       "      <th></th>\n",
       "      <th>year</th>\n",
       "      <th>name</th>\n",
       "      <th>gender</th>\n",
       "      <th>count</th>\n",
       "    </tr>\n",
       "  </thead>\n",
       "  <tbody>\n",
       "    <tr>\n",
       "      <th>0</th>\n",
       "      <td>2000</td>\n",
       "      <td>Emily</td>\n",
       "      <td>F</td>\n",
       "      <td>25956</td>\n",
       "    </tr>\n",
       "    <tr>\n",
       "      <th>1</th>\n",
       "      <td>2000</td>\n",
       "      <td>Hannah</td>\n",
       "      <td>F</td>\n",
       "      <td>23082</td>\n",
       "    </tr>\n",
       "    <tr>\n",
       "      <th>2</th>\n",
       "      <td>2000</td>\n",
       "      <td>Madison</td>\n",
       "      <td>F</td>\n",
       "      <td>19968</td>\n",
       "    </tr>\n",
       "    <tr>\n",
       "      <th>3</th>\n",
       "      <td>2000</td>\n",
       "      <td>Ashley</td>\n",
       "      <td>F</td>\n",
       "      <td>17997</td>\n",
       "    </tr>\n",
       "    <tr>\n",
       "      <th>4</th>\n",
       "      <td>2000</td>\n",
       "      <td>Sarah</td>\n",
       "      <td>F</td>\n",
       "      <td>17702</td>\n",
       "    </tr>\n",
       "  </tbody>\n",
       "</table>\n",
       "</div>"
      ],
      "text/plain": [
       "   year     name gender  count\n",
       "0  2000    Emily      F  25956\n",
       "1  2000   Hannah      F  23082\n",
       "2  2000  Madison      F  19968\n",
       "3  2000   Ashley      F  17997\n",
       "4  2000    Sarah      F  17702"
      ]
     },
     "execution_count": 106,
     "metadata": {},
     "output_type": "execute_result"
    }
   ],
   "source": [
    "df.head()"
   ]
  },
  {
   "cell_type": "code",
   "execution_count": 107,
   "id": "5595f3df",
   "metadata": {},
   "outputs": [
    {
     "data": {
      "text/html": [
       "<div>\n",
       "<style scoped>\n",
       "    .dataframe tbody tr th:only-of-type {\n",
       "        vertical-align: middle;\n",
       "    }\n",
       "\n",
       "    .dataframe tbody tr th {\n",
       "        vertical-align: top;\n",
       "    }\n",
       "\n",
       "    .dataframe thead th {\n",
       "        text-align: right;\n",
       "    }\n",
       "</style>\n",
       "<table border=\"1\" class=\"dataframe\">\n",
       "  <thead>\n",
       "    <tr style=\"text-align: right;\">\n",
       "      <th></th>\n",
       "      <th>year</th>\n",
       "      <th>name</th>\n",
       "      <th>gender</th>\n",
       "      <th>count</th>\n",
       "    </tr>\n",
       "  </thead>\n",
       "  <tbody>\n",
       "    <tr>\n",
       "      <th>624231</th>\n",
       "      <td>2018</td>\n",
       "      <td>Zylas</td>\n",
       "      <td>M</td>\n",
       "      <td>5</td>\n",
       "    </tr>\n",
       "    <tr>\n",
       "      <th>624232</th>\n",
       "      <td>2018</td>\n",
       "      <td>Zyran</td>\n",
       "      <td>M</td>\n",
       "      <td>5</td>\n",
       "    </tr>\n",
       "    <tr>\n",
       "      <th>624233</th>\n",
       "      <td>2018</td>\n",
       "      <td>Zyrie</td>\n",
       "      <td>M</td>\n",
       "      <td>5</td>\n",
       "    </tr>\n",
       "    <tr>\n",
       "      <th>624234</th>\n",
       "      <td>2018</td>\n",
       "      <td>Zyron</td>\n",
       "      <td>M</td>\n",
       "      <td>5</td>\n",
       "    </tr>\n",
       "    <tr>\n",
       "      <th>624235</th>\n",
       "      <td>2018</td>\n",
       "      <td>Zzyzx</td>\n",
       "      <td>M</td>\n",
       "      <td>5</td>\n",
       "    </tr>\n",
       "  </tbody>\n",
       "</table>\n",
       "</div>"
      ],
      "text/plain": [
       "        year   name gender  count\n",
       "624231  2018  Zylas      M      5\n",
       "624232  2018  Zyran      M      5\n",
       "624233  2018  Zyrie      M      5\n",
       "624234  2018  Zyron      M      5\n",
       "624235  2018  Zzyzx      M      5"
      ]
     },
     "execution_count": 107,
     "metadata": {},
     "output_type": "execute_result"
    }
   ],
   "source": [
    "df.tail()"
   ]
  },
  {
   "cell_type": "code",
   "execution_count": 108,
   "id": "7981e310",
   "metadata": {},
   "outputs": [
    {
     "data": {
      "text/plain": [
       "(624236, 4)"
      ]
     },
     "execution_count": 108,
     "metadata": {},
     "output_type": "execute_result"
    }
   ],
   "source": [
    "df.shape"
   ]
  },
  {
   "cell_type": "code",
   "execution_count": 109,
   "id": "f9add150",
   "metadata": {},
   "outputs": [
    {
     "data": {
      "text/html": [
       "<div>\n",
       "<style scoped>\n",
       "    .dataframe tbody tr th:only-of-type {\n",
       "        vertical-align: middle;\n",
       "    }\n",
       "\n",
       "    .dataframe tbody tr th {\n",
       "        vertical-align: top;\n",
       "    }\n",
       "\n",
       "    .dataframe thead th {\n",
       "        text-align: right;\n",
       "    }\n",
       "</style>\n",
       "<table border=\"1\" class=\"dataframe\">\n",
       "  <thead>\n",
       "    <tr style=\"text-align: right;\">\n",
       "      <th></th>\n",
       "      <th>year</th>\n",
       "      <th>count</th>\n",
       "    </tr>\n",
       "  </thead>\n",
       "  <tbody>\n",
       "    <tr>\n",
       "      <th>count</th>\n",
       "      <td>624236.000000</td>\n",
       "      <td>624236.000000</td>\n",
       "    </tr>\n",
       "    <tr>\n",
       "      <th>mean</th>\n",
       "      <td>2009.115961</td>\n",
       "      <td>113.971929</td>\n",
       "    </tr>\n",
       "    <tr>\n",
       "      <th>std</th>\n",
       "      <td>5.383550</td>\n",
       "      <td>754.696900</td>\n",
       "    </tr>\n",
       "    <tr>\n",
       "      <th>min</th>\n",
       "      <td>2000.000000</td>\n",
       "      <td>5.000000</td>\n",
       "    </tr>\n",
       "    <tr>\n",
       "      <th>25%</th>\n",
       "      <td>2005.000000</td>\n",
       "      <td>7.000000</td>\n",
       "    </tr>\n",
       "    <tr>\n",
       "      <th>50%</th>\n",
       "      <td>2009.000000</td>\n",
       "      <td>11.000000</td>\n",
       "    </tr>\n",
       "    <tr>\n",
       "      <th>75%</th>\n",
       "      <td>2014.000000</td>\n",
       "      <td>29.000000</td>\n",
       "    </tr>\n",
       "    <tr>\n",
       "      <th>max</th>\n",
       "      <td>2018.000000</td>\n",
       "      <td>34477.000000</td>\n",
       "    </tr>\n",
       "  </tbody>\n",
       "</table>\n",
       "</div>"
      ],
      "text/plain": [
       "                year          count\n",
       "count  624236.000000  624236.000000\n",
       "mean     2009.115961     113.971929\n",
       "std         5.383550     754.696900\n",
       "min      2000.000000       5.000000\n",
       "25%      2005.000000       7.000000\n",
       "50%      2009.000000      11.000000\n",
       "75%      2014.000000      29.000000\n",
       "max      2018.000000   34477.000000"
      ]
     },
     "execution_count": 109,
     "metadata": {},
     "output_type": "execute_result"
    }
   ],
   "source": [
    "df.describe()"
   ]
  },
  {
   "cell_type": "code",
   "execution_count": 112,
   "id": "cc3bfa4a",
   "metadata": {},
   "outputs": [
    {
     "data": {
      "text/html": [
       "<div>\n",
       "<style scoped>\n",
       "    .dataframe tbody tr th:only-of-type {\n",
       "        vertical-align: middle;\n",
       "    }\n",
       "\n",
       "    .dataframe tbody tr th {\n",
       "        vertical-align: top;\n",
       "    }\n",
       "\n",
       "    .dataframe thead th {\n",
       "        text-align: right;\n",
       "    }\n",
       "</style>\n",
       "<table border=\"1\" class=\"dataframe\">\n",
       "  <thead>\n",
       "    <tr style=\"text-align: right;\">\n",
       "      <th></th>\n",
       "      <th>name</th>\n",
       "      <th>gender</th>\n",
       "    </tr>\n",
       "  </thead>\n",
       "  <tbody>\n",
       "    <tr>\n",
       "      <th>1</th>\n",
       "      <td>Hannah</td>\n",
       "      <td>F</td>\n",
       "    </tr>\n",
       "    <tr>\n",
       "      <th>2</th>\n",
       "      <td>Madison</td>\n",
       "      <td>F</td>\n",
       "    </tr>\n",
       "    <tr>\n",
       "      <th>3</th>\n",
       "      <td>Ashley</td>\n",
       "      <td>F</td>\n",
       "    </tr>\n",
       "    <tr>\n",
       "      <th>4</th>\n",
       "      <td>Sarah</td>\n",
       "      <td>F</td>\n",
       "    </tr>\n",
       "    <tr>\n",
       "      <th>5</th>\n",
       "      <td>Alexis</td>\n",
       "      <td>F</td>\n",
       "    </tr>\n",
       "    <tr>\n",
       "      <th>6</th>\n",
       "      <td>Samantha</td>\n",
       "      <td>F</td>\n",
       "    </tr>\n",
       "    <tr>\n",
       "      <th>7</th>\n",
       "      <td>Jessica</td>\n",
       "      <td>F</td>\n",
       "    </tr>\n",
       "    <tr>\n",
       "      <th>8</th>\n",
       "      <td>Elizabeth</td>\n",
       "      <td>F</td>\n",
       "    </tr>\n",
       "    <tr>\n",
       "      <th>9</th>\n",
       "      <td>Taylor</td>\n",
       "      <td>F</td>\n",
       "    </tr>\n",
       "  </tbody>\n",
       "</table>\n",
       "</div>"
      ],
      "text/plain": [
       "        name gender\n",
       "1     Hannah      F\n",
       "2    Madison      F\n",
       "3     Ashley      F\n",
       "4      Sarah      F\n",
       "5     Alexis      F\n",
       "6   Samantha      F\n",
       "7    Jessica      F\n",
       "8  Elizabeth      F\n",
       "9     Taylor      F"
      ]
     },
     "execution_count": 112,
     "metadata": {},
     "output_type": "execute_result"
    }
   ],
   "source": [
    "df.iloc[1:10,[1, 2]]"
   ]
  },
  {
   "cell_type": "code",
   "execution_count": 114,
   "id": "4545a350",
   "metadata": {},
   "outputs": [
    {
     "data": {
      "text/html": [
       "<div>\n",
       "<style scoped>\n",
       "    .dataframe tbody tr th:only-of-type {\n",
       "        vertical-align: middle;\n",
       "    }\n",
       "\n",
       "    .dataframe tbody tr th {\n",
       "        vertical-align: top;\n",
       "    }\n",
       "\n",
       "    .dataframe thead th {\n",
       "        text-align: right;\n",
       "    }\n",
       "</style>\n",
       "<table border=\"1\" class=\"dataframe\">\n",
       "  <thead>\n",
       "    <tr style=\"text-align: right;\">\n",
       "      <th></th>\n",
       "      <th>year</th>\n",
       "      <th>name</th>\n",
       "      <th>gender</th>\n",
       "      <th>count</th>\n",
       "    </tr>\n",
       "  </thead>\n",
       "  <tbody>\n",
       "    <tr>\n",
       "      <th>415</th>\n",
       "      <td>2000</td>\n",
       "      <td>Tyler</td>\n",
       "      <td>F</td>\n",
       "      <td>683</td>\n",
       "    </tr>\n",
       "    <tr>\n",
       "      <th>17664</th>\n",
       "      <td>2000</td>\n",
       "      <td>Tyler</td>\n",
       "      <td>M</td>\n",
       "      <td>21504</td>\n",
       "    </tr>\n",
       "    <tr>\n",
       "      <th>30262</th>\n",
       "      <td>2001</td>\n",
       "      <td>Tyler</td>\n",
       "      <td>F</td>\n",
       "      <td>569</td>\n",
       "    </tr>\n",
       "    <tr>\n",
       "      <th>47757</th>\n",
       "      <td>2001</td>\n",
       "      <td>Tyler</td>\n",
       "      <td>M</td>\n",
       "      <td>19273</td>\n",
       "    </tr>\n",
       "    <tr>\n",
       "      <th>60570</th>\n",
       "      <td>2002</td>\n",
       "      <td>Tyler</td>\n",
       "      <td>F</td>\n",
       "      <td>523</td>\n",
       "    </tr>\n",
       "  </tbody>\n",
       "</table>\n",
       "</div>"
      ],
      "text/plain": [
       "       year   name gender  count\n",
       "415    2000  Tyler      F    683\n",
       "17664  2000  Tyler      M  21504\n",
       "30262  2001  Tyler      F    569\n",
       "47757  2001  Tyler      M  19273\n",
       "60570  2002  Tyler      F    523"
      ]
     },
     "execution_count": 114,
     "metadata": {},
     "output_type": "execute_result"
    }
   ],
   "source": [
    "df[df['name'] == 'Tyler'].head()"
   ]
  },
  {
   "cell_type": "markdown",
   "id": "da06ca9e",
   "metadata": {},
   "source": [
    "## 3.3.2"
   ]
  },
  {
   "cell_type": "code",
   "execution_count": 163,
   "id": "09fcfbe4",
   "metadata": {},
   "outputs": [
    {
     "data": {
      "text/plain": [
       "array([[0.22222222],\n",
       "       [0.16666667],\n",
       "       [0.11111111],\n",
       "       [0.08333333],\n",
       "       [0.19444444],\n",
       "       [0.30555556],\n",
       "       [0.08333333],\n",
       "       [0.19444444],\n",
       "       [0.02777778],\n",
       "       [0.16666667],\n",
       "       [0.30555556],\n",
       "       [0.13888889],\n",
       "       [0.13888889],\n",
       "       [0.        ],\n",
       "       [0.41666667],\n",
       "       [0.38888889],\n",
       "       [0.30555556],\n",
       "       [0.22222222],\n",
       "       [0.38888889],\n",
       "       [0.22222222],\n",
       "       [0.30555556],\n",
       "       [0.22222222],\n",
       "       [0.08333333],\n",
       "       [0.22222222],\n",
       "       [0.13888889],\n",
       "       [0.19444444],\n",
       "       [0.19444444],\n",
       "       [0.25      ],\n",
       "       [0.25      ],\n",
       "       [0.11111111],\n",
       "       [0.13888889],\n",
       "       [0.30555556],\n",
       "       [0.25      ],\n",
       "       [0.33333333],\n",
       "       [0.16666667],\n",
       "       [0.19444444],\n",
       "       [0.33333333],\n",
       "       [0.16666667],\n",
       "       [0.02777778],\n",
       "       [0.22222222],\n",
       "       [0.19444444],\n",
       "       [0.05555556],\n",
       "       [0.02777778],\n",
       "       [0.19444444],\n",
       "       [0.22222222],\n",
       "       [0.13888889],\n",
       "       [0.22222222],\n",
       "       [0.08333333],\n",
       "       [0.27777778],\n",
       "       [0.19444444],\n",
       "       [0.75      ],\n",
       "       [0.58333333],\n",
       "       [0.72222222],\n",
       "       [0.33333333],\n",
       "       [0.61111111],\n",
       "       [0.38888889],\n",
       "       [0.55555556],\n",
       "       [0.16666667],\n",
       "       [0.63888889],\n",
       "       [0.25      ],\n",
       "       [0.19444444],\n",
       "       [0.44444444],\n",
       "       [0.47222222],\n",
       "       [0.5       ],\n",
       "       [0.36111111],\n",
       "       [0.66666667],\n",
       "       [0.36111111],\n",
       "       [0.41666667],\n",
       "       [0.52777778],\n",
       "       [0.36111111],\n",
       "       [0.44444444],\n",
       "       [0.5       ],\n",
       "       [0.55555556],\n",
       "       [0.5       ],\n",
       "       [0.58333333],\n",
       "       [0.63888889],\n",
       "       [0.69444444],\n",
       "       [0.66666667],\n",
       "       [0.47222222],\n",
       "       [0.38888889],\n",
       "       [0.33333333],\n",
       "       [0.33333333],\n",
       "       [0.41666667],\n",
       "       [0.47222222],\n",
       "       [0.30555556],\n",
       "       [0.47222222],\n",
       "       [0.66666667],\n",
       "       [0.55555556],\n",
       "       [0.36111111],\n",
       "       [0.33333333],\n",
       "       [0.33333333],\n",
       "       [0.5       ],\n",
       "       [0.41666667],\n",
       "       [0.19444444],\n",
       "       [0.36111111],\n",
       "       [0.38888889],\n",
       "       [0.38888889],\n",
       "       [0.52777778],\n",
       "       [0.22222222],\n",
       "       [0.38888889],\n",
       "       [0.55555556],\n",
       "       [0.41666667],\n",
       "       [0.77777778],\n",
       "       [0.55555556],\n",
       "       [0.61111111],\n",
       "       [0.91666667],\n",
       "       [0.16666667],\n",
       "       [0.83333333],\n",
       "       [0.66666667],\n",
       "       [0.80555556],\n",
       "       [0.61111111],\n",
       "       [0.58333333],\n",
       "       [0.69444444],\n",
       "       [0.38888889],\n",
       "       [0.41666667],\n",
       "       [0.58333333],\n",
       "       [0.61111111],\n",
       "       [0.94444444],\n",
       "       [0.94444444],\n",
       "       [0.47222222],\n",
       "       [0.72222222],\n",
       "       [0.36111111],\n",
       "       [0.94444444],\n",
       "       [0.55555556],\n",
       "       [0.66666667],\n",
       "       [0.80555556],\n",
       "       [0.52777778],\n",
       "       [0.5       ],\n",
       "       [0.58333333],\n",
       "       [0.80555556],\n",
       "       [0.86111111],\n",
       "       [1.        ],\n",
       "       [0.58333333],\n",
       "       [0.55555556],\n",
       "       [0.5       ],\n",
       "       [0.94444444],\n",
       "       [0.55555556],\n",
       "       [0.58333333],\n",
       "       [0.47222222],\n",
       "       [0.72222222],\n",
       "       [0.66666667],\n",
       "       [0.72222222],\n",
       "       [0.41666667],\n",
       "       [0.69444444],\n",
       "       [0.66666667],\n",
       "       [0.66666667],\n",
       "       [0.55555556],\n",
       "       [0.61111111],\n",
       "       [0.52777778],\n",
       "       [0.44444444]])"
      ]
     },
     "execution_count": 163,
     "metadata": {},
     "output_type": "execute_result"
    }
   ],
   "source": [
    "import numpy as np\n",
    "import pandas as pd\n",
    "from sklearn import preprocessing\n",
    "\n",
    "url = 'https://raw.githubusercontent.com/akmand/datasets/master/iris.csv'\n",
    "df = pd.read_csv(url)\n",
    "\n",
    "# minimax\n",
    "feature1 = np.array([df['sepal_length_cm']]).reshape(-1, 1)\n",
    "\n",
    "minimax_scale = preprocessing.MinMaxScaler(feature_range = (0, 1))\n",
    "scaled_feature = minimax_scale.fit_transform(feature1)\n",
    "scaled_feature"
   ]
  },
  {
   "cell_type": "code",
   "execution_count": 167,
   "id": "3b886e60",
   "metadata": {},
   "outputs": [
    {
     "data": {
      "text/plain": [
       "array([[ 1.03205722],\n",
       "       [-0.1249576 ],\n",
       "       [ 0.33784833],\n",
       "       [ 0.10644536],\n",
       "       [ 1.26346019],\n",
       "       [ 1.95766909],\n",
       "       [ 0.80065426],\n",
       "       [ 0.80065426],\n",
       "       [-0.35636057],\n",
       "       [ 0.10644536],\n",
       "       [ 1.49486315],\n",
       "       [ 0.80065426],\n",
       "       [-0.1249576 ],\n",
       "       [-0.1249576 ],\n",
       "       [ 2.18907205],\n",
       "       [ 3.11468391],\n",
       "       [ 1.95766909],\n",
       "       [ 1.03205722],\n",
       "       [ 1.72626612],\n",
       "       [ 1.72626612],\n",
       "       [ 0.80065426],\n",
       "       [ 1.49486315],\n",
       "       [ 1.26346019],\n",
       "       [ 0.56925129],\n",
       "       [ 0.80065426],\n",
       "       [-0.1249576 ],\n",
       "       [ 0.80065426],\n",
       "       [ 1.03205722],\n",
       "       [ 0.80065426],\n",
       "       [ 0.33784833],\n",
       "       [ 0.10644536],\n",
       "       [ 0.80065426],\n",
       "       [ 2.42047502],\n",
       "       [ 2.65187798],\n",
       "       [ 0.10644536],\n",
       "       [ 0.33784833],\n",
       "       [ 1.03205722],\n",
       "       [ 0.10644536],\n",
       "       [-0.1249576 ],\n",
       "       [ 0.80065426],\n",
       "       [ 1.03205722],\n",
       "       [-1.74477836],\n",
       "       [ 0.33784833],\n",
       "       [ 1.03205722],\n",
       "       [ 1.72626612],\n",
       "       [-0.1249576 ],\n",
       "       [ 1.72626612],\n",
       "       [ 0.33784833],\n",
       "       [ 1.49486315],\n",
       "       [ 0.56925129],\n",
       "       [ 0.33784833],\n",
       "       [ 0.33784833],\n",
       "       [ 0.10644536],\n",
       "       [-1.74477836],\n",
       "       [-0.58776353],\n",
       "       [-0.58776353],\n",
       "       [ 0.56925129],\n",
       "       [-1.51337539],\n",
       "       [-0.35636057],\n",
       "       [-0.8191665 ],\n",
       "       [-2.43898725],\n",
       "       [-0.1249576 ],\n",
       "       [-1.97618132],\n",
       "       [-0.35636057],\n",
       "       [-0.35636057],\n",
       "       [ 0.10644536],\n",
       "       [-0.1249576 ],\n",
       "       [-0.8191665 ],\n",
       "       [-1.97618132],\n",
       "       [-1.28197243],\n",
       "       [ 0.33784833],\n",
       "       [-0.58776353],\n",
       "       [-1.28197243],\n",
       "       [-0.58776353],\n",
       "       [-0.35636057],\n",
       "       [-0.1249576 ],\n",
       "       [-0.58776353],\n",
       "       [-0.1249576 ],\n",
       "       [-0.35636057],\n",
       "       [-1.05056946],\n",
       "       [-1.51337539],\n",
       "       [-1.51337539],\n",
       "       [-0.8191665 ],\n",
       "       [-0.8191665 ],\n",
       "       [-0.1249576 ],\n",
       "       [ 0.80065426],\n",
       "       [ 0.10644536],\n",
       "       [-1.74477836],\n",
       "       [-0.1249576 ],\n",
       "       [-1.28197243],\n",
       "       [-1.05056946],\n",
       "       [-0.1249576 ],\n",
       "       [-1.05056946],\n",
       "       [-1.74477836],\n",
       "       [-0.8191665 ],\n",
       "       [-0.1249576 ],\n",
       "       [-0.35636057],\n",
       "       [-0.35636057],\n",
       "       [-1.28197243],\n",
       "       [-0.58776353],\n",
       "       [ 0.56925129],\n",
       "       [-0.8191665 ],\n",
       "       [-0.1249576 ],\n",
       "       [-0.35636057],\n",
       "       [-0.1249576 ],\n",
       "       [-0.1249576 ],\n",
       "       [-1.28197243],\n",
       "       [-0.35636057],\n",
       "       [-1.28197243],\n",
       "       [ 1.26346019],\n",
       "       [ 0.33784833],\n",
       "       [-0.8191665 ],\n",
       "       [-0.1249576 ],\n",
       "       [-1.28197243],\n",
       "       [-0.58776353],\n",
       "       [ 0.33784833],\n",
       "       [-0.1249576 ],\n",
       "       [ 1.72626612],\n",
       "       [-1.05056946],\n",
       "       [-1.97618132],\n",
       "       [ 0.33784833],\n",
       "       [-0.58776353],\n",
       "       [-0.58776353],\n",
       "       [-0.8191665 ],\n",
       "       [ 0.56925129],\n",
       "       [ 0.33784833],\n",
       "       [-0.58776353],\n",
       "       [-0.1249576 ],\n",
       "       [-0.58776353],\n",
       "       [-0.1249576 ],\n",
       "       [-0.58776353],\n",
       "       [ 1.72626612],\n",
       "       [-0.58776353],\n",
       "       [-0.58776353],\n",
       "       [-1.05056946],\n",
       "       [-0.1249576 ],\n",
       "       [ 0.80065426],\n",
       "       [ 0.10644536],\n",
       "       [-0.1249576 ],\n",
       "       [ 0.10644536],\n",
       "       [ 0.10644536],\n",
       "       [ 0.10644536],\n",
       "       [-0.8191665 ],\n",
       "       [ 0.33784833],\n",
       "       [ 0.56925129],\n",
       "       [-0.1249576 ],\n",
       "       [-1.28197243],\n",
       "       [-0.1249576 ],\n",
       "       [ 0.80065426],\n",
       "       [-0.1249576 ]])"
      ]
     },
     "execution_count": 167,
     "metadata": {},
     "output_type": "execute_result"
    }
   ],
   "source": [
    "# stdscaler\n",
    "feature2 = np.array([df['sepal_width_cm']]).reshape(-1, 1)\n",
    "scaler_z = preprocessing.StandardScaler()\n",
    "standarized = scaler_z.fit_transform(feature2)\n",
    "standarized"
   ]
  },
  {
   "cell_type": "code",
   "execution_count": 117,
   "id": "9abb40ec",
   "metadata": {},
   "outputs": [],
   "source": [
    "# Необходимо выполнить нормализацию первого числового признака\n",
    "# (sepal_length_cm) с использованием минимаксного преобразования, а\n",
    "# второго (sepal_width_cm) с задействованием z-масштабирования"
   ]
  }
 ],
 "metadata": {
  "kernelspec": {
   "display_name": "Python 3",
   "language": "python",
   "name": "python3"
  },
  "language_info": {
   "codemirror_mode": {
    "name": "ipython",
    "version": 3
   },
   "file_extension": ".py",
   "mimetype": "text/x-python",
   "name": "python",
   "nbconvert_exporter": "python",
   "pygments_lexer": "ipython3",
   "version": "3.8.8"
  }
 },
 "nbformat": 4,
 "nbformat_minor": 5
}
